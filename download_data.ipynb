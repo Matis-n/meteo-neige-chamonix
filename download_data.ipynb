{
 "cells": [
  {
   "cell_type": "code",
   "execution_count": 2,
   "metadata": {},
   "outputs": [],
   "source": [
    "from urllib.request import urlopen\n"
   ]
  },
  {
   "cell_type": "code",
   "execution_count": 7,
   "metadata": {},
   "outputs": [],
   "source": [
    "import json\n",
    "import pandas as pd\n",
    "import numpy as np\n",
    "import os\n",
    "import requests\n",
    "import gzip\n",
    "import shutil\n",
    "import datetime"
   ]
  },
  {
   "cell_type": "code",
   "execution_count": 8,
   "metadata": {},
   "outputs": [],
   "source": [
    "folder_gz = \"data_gz\"\n",
    "folder_csv = \"data_csv\"\n",
    "\n",
    "urls= dict()\n",
    "urls[\"74_1949_RR_T_V\"] = \"https://www.data.gouv.fr/fr/datasets/r/96a9cf9d-e307-4311-b281-80e525216d4a\"\n",
    "urls[\"74_1949_other\"] = \"https://www.data.gouv.fr/fr/datasets/r/0fcadd70-279e-463c-8f9e-bb7493da68cd\"\n",
    "urls[\"74_2022_RR_T_V\"] = \"https://www.data.gouv.fr/fr/datasets/r/23a368d7-59e3-488d-afb7-3890f972dcd7\"\n",
    "urls[\"74_2022_other\"] = \"https://www.data.gouv.fr/fr/datasets/r/9096f970-f711-4db5-9f22-77618cb50729\"\n",
    "urls[\"74_2024_RR_T_V\"] = \"https://www.data.gouv.fr/fr/datasets/r/212e4fb5-e4fd-4565-af91-1fd340b23a6c\"\n",
    "urls[\"74_2024_other\"] = \"https://www.data.gouv.fr/fr/datasets/r/2fd676a6-c8e2-47df-adb1-974a60a5482b\"\n",
    "\n",
    "code_chamonix = \"74056001\"\n"
   ]
  },
  {
   "cell_type": "code",
   "execution_count": 11,
   "metadata": {},
   "outputs": [],
   "source": [
    "def convert_to_date(chaine):\n",
    "    return pd.to_datetime(str(chaine), format='%Y%m%d', errors='coerce')\n",
    "\n",
    "def download_file(url, filename):\n",
    "    file= os.path.join(folder_gz, filename) + '.gz'\n",
    "    print('Téléchargement: ', file)\n",
    "    response = requests.get(url)\n",
    "    if response.status_code == 200:\n",
    "        with open(file, 'wb') as f:\n",
    "            f.write(response.content)\n",
    "    else:\n",
    "        print(\"Fichier d'archive non présent à l'url habituelle: \", file)\n",
    "\n",
    "def decompress_gz(filename):\n",
    "    file= os.path.join(folder_gz, filename) + '.gz'\n",
    "    \n",
    "    if os.path.exists(file):\n",
    "        with gzip.open(file, 'rb') as f_in:\n",
    "            file= os.path.join(folder_csv, filename) \n",
    "            print('Décompression', file)\n",
    "            with open(file, 'wb') as f_out:\n",
    "                f_out.write(f_in.read())\n",
    "    else:\n",
    "        print(\"Fichier d'archive non trouvé: \", file)\n",
    "        print(\"Téléchargez l'archive GZ, manuellement ou en modifiant la variable 'download', puis relancez le script.\")\n",
    "\n",
    "def read_csv(filename):\n",
    "    file= os.path.join(folder_csv, filename)\n",
    "    if os.path.exists(file):\n",
    "        print('Lecture: ', file)\n",
    "        df= pd.read_csv(file, header=0, sep=\";\", dtype={\"NUM_POSTE\":str, 'AAAAMMJJ':str}, parse_dates=['AAAAMMJJ'], date_parser= convert_to_date)\n",
    "    else:\n",
    "        print(\"Fichier CSV non trouvé: \", file)\n",
    "        print(\"Téléchargez l'archive GZ, manuellement ou en modifiant la variable 'download', puis relancez le script\")\n",
    "    return df"
   ]
  },
  {
   "cell_type": "code",
   "execution_count": 14,
   "metadata": {},
   "outputs": [
    {
     "name": "stdout",
     "output_type": "stream",
     "text": [
      "Téléchargement:  data_gz\\postesEnService_742022RR_T_V.csv.gz\n",
      "Décompression data_csv\\postesEnService_742022RR_T_V.csv\n",
      "Lecture:  data_csv\\postesEnService_742022RR_T_V.csv\n"
     ]
    },
    {
     "name": "stderr",
     "output_type": "stream",
     "text": [
      "C:\\Users\\matis\\AppData\\Local\\Temp\\ipykernel_3624\\837866563.py:31: FutureWarning: The argument 'date_parser' is deprecated and will be removed in a future version. Please use 'date_format' instead, or read your data in as 'object' dtype and then call 'to_datetime'.\n",
      "  df= pd.read_csv(file, header=0, sep=\";\", dtype={\"NUM_POSTE\":str, 'AAAAMMJJ':str}, parse_dates=['AAAAMMJJ'], date_parser= convert_to_date)\n"
     ]
    },
    {
     "name": "stdout",
     "output_type": "stream",
     "text": [
      "Téléchargement:  data_gz\\postesEnService_742024RR_T_V.csv.gz\n",
      "Décompression data_csv\\postesEnService_742024RR_T_V.csv\n",
      "Lecture:  data_csv\\postesEnService_742024RR_T_V.csv\n"
     ]
    },
    {
     "name": "stderr",
     "output_type": "stream",
     "text": [
      "C:\\Users\\matis\\AppData\\Local\\Temp\\ipykernel_3624\\837866563.py:31: FutureWarning: The argument 'date_parser' is deprecated and will be removed in a future version. Please use 'date_format' instead, or read your data in as 'object' dtype and then call 'to_datetime'.\n",
      "  df= pd.read_csv(file, header=0, sep=\";\", dtype={\"NUM_POSTE\":str, 'AAAAMMJJ':str}, parse_dates=['AAAAMMJJ'], date_parser= convert_to_date)\n"
     ]
    },
    {
     "name": "stdout",
     "output_type": "stream",
     "text": [
      "Téléchargement:  data_gz\\postesEnService_742022other.csv.gz\n",
      "Décompression data_csv\\postesEnService_742022other.csv\n",
      "Lecture:  data_csv\\postesEnService_742022other.csv\n"
     ]
    },
    {
     "name": "stderr",
     "output_type": "stream",
     "text": [
      "C:\\Users\\matis\\AppData\\Local\\Temp\\ipykernel_3624\\837866563.py:31: FutureWarning: The argument 'date_parser' is deprecated and will be removed in a future version. Please use 'date_format' instead, or read your data in as 'object' dtype and then call 'to_datetime'.\n",
      "  df= pd.read_csv(file, header=0, sep=\";\", dtype={\"NUM_POSTE\":str, 'AAAAMMJJ':str}, parse_dates=['AAAAMMJJ'], date_parser= convert_to_date)\n"
     ]
    },
    {
     "name": "stdout",
     "output_type": "stream",
     "text": [
      "Téléchargement:  data_gz\\postesEnService_742024other.csv.gz\n",
      "Décompression data_csv\\postesEnService_742024other.csv\n",
      "Lecture:  data_csv\\postesEnService_742024other.csv\n"
     ]
    },
    {
     "name": "stderr",
     "output_type": "stream",
     "text": [
      "C:\\Users\\matis\\AppData\\Local\\Temp\\ipykernel_3624\\837866563.py:31: FutureWarning: The argument 'date_parser' is deprecated and will be removed in a future version. Please use 'date_format' instead, or read your data in as 'object' dtype and then call 'to_datetime'.\n",
      "  df= pd.read_csv(file, header=0, sep=\";\", dtype={\"NUM_POSTE\":str, 'AAAAMMJJ':str}, parse_dates=['AAAAMMJJ'], date_parser= convert_to_date)\n"
     ]
    }
   ],
   "source": [
    "# Téléchargement/décompression/lecture des fichiers dans une boucle sur les départements (urls tirées du dictionnaire 'urls')\n",
    "i = 0\n",
    "departements= [\"74\"]\n",
    "years = [\"2022\", \"2024\"]\n",
    "download = True\n",
    "template_start = \"postesEnService_\"\n",
    "template_end = \".csv\"\n",
    "\n",
    "for departement in departements:\n",
    "    for year in years:\n",
    "        # On récupère l'url\n",
    "        key = departement + \"_\" + year + \"_RR_T_V\"\n",
    "        url = urls[departement]\n",
    "        # Formation du nom du fichier à partir du template et du numéro de département\n",
    "        filename = f\"{template_start}{departement}{year}RR_T_V{template_end}\"\n",
    "        if download:\n",
    "            download_file(url, filename)\n",
    "            decompress_gz(filename)\n",
    "        # Lecture du fichier CSV dans un dataframe pandas\n",
    "        df_departement= read_csv(filename)\n",
    "        if i == 0: # pour le premier département, initialisation du dataframe final df       \n",
    "            df = df_departement\n",
    "            i= i+1\n",
    "        else:  # sinon concaténation du département suivant \n",
    "            df= pd.concat([df, df_departement])  \n",
    "\n",
    "i = 0\n",
    "for departement in departements:\n",
    "    for year in years:\n",
    "        # On récupère l'url\n",
    "        key = departement + \"_\" + year + \"other\"\n",
    "        url = urls[departement]\n",
    "        # Formation du nom du fichier à partir du template et du numéro de département\n",
    "        filename = f\"{template_start}{departement}{year}other{template_end}\"\n",
    "        if download:\n",
    "            download_file(url, filename)\n",
    "            decompress_gz(filename)\n",
    "        # Lecture du fichier CSV dans un dataframe pandas\n",
    "        df_departement= read_csv(filename)\n",
    "        if i == 0: # pour le premier département, initialisation du dataframe final df       \n",
    "            df = df_departement\n",
    "            i= i+1\n",
    "        else:  # sinon concaténation du département suivant \n",
    "            df= pd.concat([df, df_departement])  \n",
    "            \n",
    "              \n"
   ]
  },
  {
   "cell_type": "code",
   "execution_count": null,
   "metadata": {},
   "outputs": [],
   "source": []
  }
 ],
 "metadata": {
  "kernelspec": {
   "display_name": "ds",
   "language": "python",
   "name": "python3"
  },
  "language_info": {
   "codemirror_mode": {
    "name": "ipython",
    "version": 3
   },
   "file_extension": ".py",
   "mimetype": "text/x-python",
   "name": "python",
   "nbconvert_exporter": "python",
   "pygments_lexer": "ipython3",
   "version": "3.10.12"
  }
 },
 "nbformat": 4,
 "nbformat_minor": 2
}
