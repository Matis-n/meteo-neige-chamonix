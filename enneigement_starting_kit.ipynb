{
 "cells": [
  {
   "cell_type": "markdown",
   "metadata": {},
   "source": [
    "# RAMP: Predicting snowing events\n",
    "Soulaimane El Mennaoui, Matis nanni, Busra Bulut, Nils Reynaud"
   ]
  },
  {
   "cell_type": "markdown",
   "metadata": {},
   "source": [
    "# Introduction\n",
    "\n",
    "In the face of increasingly unpredictable weather patterns due to climate change, the ability to accurately predict snowfall rates has never been more critical. Accurate snowfall predictions are essential for effective planning and response in various sectors, including transportation, agriculture, and public safety. Traditional forecasting methods, while useful, often fall short in precision and reliability, especially when dealing with the intricate variables that influence snowfall.\n",
    "\n",
    "This project aims to leverage the power of Machine Learning (ML) to enhance the accuracy and reliability of snowfall rate predictions. By analyzing historical weather data alongside other influential factors such as temperature, humidity, air pressure, and geographical features, we propose to develop a predictive model that can forecast snowfall rates with greater accuracy than traditional methods.\n",
    "\n",
    "The core of this initiative is rooted in the belief that ML algorithms, with their ability to digest and learn from vast datasets, can uncover complex patterns and relationships that human analysis might overlook. These patterns, once identified, can be used to make predictions about future snowfall events, helping communities and industries better prepare for and respond to winter weather conditions."
   ]
  },
  {
   "cell_type": "markdown",
   "metadata": {},
   "source": [
    "# THe dataset\n",
    "\n",
    "This structure makes it a bit challenging to directly interpret the data without first correctly parsing it.\n",
    "\n",
    "From the initial view, each entry contains numerous fields, such as NUM_POSTE, NOM_USUEL, LAT (latitude), LON (longitude), ALTI (altitude), AAAAMMJJ (date in YYYYMMDD format), and various other parameters with their corresponding quality codes (prefixed with Q). These fields cover a wide range of meteorological and environmental data points, including humidity (DHUMEC), pressure (PMERM), temperature (INST), wind direction (DIRT), ultraviolet radiation (UV), and many others, each followed by a quality indicator (Q prefix).\n",
    "\n",
    "To provide a detailed description, it would be helpful to parse the dataset correctly by considering the semicolon as the delimiter. Let's do that to better understand the structure and content. ​\n",
    "\n",
    "​\n",
    "\n",
    "The dataset, now correctly parsed, contains 22,249 entries and 88 columns, detailing a comprehensive range of meteorological and environmental data recorded at various stations. Here's a brief overview of its structure:\n",
    "\n",
    "    Station Information: Includes station number (NUM_POSTE), usual name (NOM_USUEL), latitude (LAT), longitude (LON), and altitude (ALTI).\n",
    "    Date: Recorded in AAAAMMJJ format, representing the year (AAAA), month (MM), and day (JJ).\n",
    "    Meteorological Data: A wide array of parameters is covered, including but not limited to atmospheric pressure (PMERM, PMERMIN), temperature (INST), global radiation (GLOT), humidity (UN, HUN, UX, HUX, UM), and specific events like frost (GELEE), fog (BRUME), and smoke (FUMEE).\n",
    "    Quality Indicators: Each meteorological parameter is accompanied by a quality indicator (prefixed with Q), such as QPMERM for pressure measurement quality.\n"
   ]
  },
  {
   "cell_type": "markdown",
   "metadata": {},
   "source": [
    "# Requirements"
   ]
  },
  {
   "cell_type": "code",
   "execution_count": 1,
   "metadata": {},
   "outputs": [],
   "source": [
    "import pandas as pd\n",
    "import numpy as np\n",
    "import missingno as msno\n",
    "import matplotlib.pyplot as plt\n",
    "import seaborn as sns\n",
    "\n",
    "from sklearn.model_selection import StratifiedGroupKFold\n",
    "from sklearn import svm\n",
    "from sklearn.ensemble import RandomForestClassifier\n",
    "from sklearn.impute import SimpleImputer\n",
    "from xgboost import XGBClassifier\n",
    "from sklearn.preprocessing import StandardScaler\n",
    "from sklearn.preprocessing import RobustScaler\n",
    "from sklearn.pipeline import Pipeline,make_pipeline\n",
    "from sklearn.linear_model import LogisticRegression \n",
    "from sklearn.linear_model import Lasso\n",
    "from sklearn.metrics import accuracy_score\n",
    "from sklearn.metrics import balanced_accuracy_score\n",
    "from sklearn.metrics import classification_report\n",
    "from sklearn.metrics import confusion_matrix, ConfusionMatrixDisplay\n"
   ]
  },
  {
   "cell_type": "code",
   "execution_count": 49,
   "metadata": {},
   "outputs": [
    {
     "name": "stdout",
     "output_type": "stream",
     "text": [
      "Téléchargement:  data_gz\\742022RR_T_V.csv.gz\n",
      "Décompression data_csv\\742022RR_T_V.csv\n",
      "Lecture:  data_csv\\742022RR_T_V.csv\n",
      "Téléchargement:  data_gz\\742024RR_T_V.csv.gz\n",
      "Décompression data_csv\\742024RR_T_V.csv\n",
      "Lecture:  data_csv\\742024RR_T_V.csv\n",
      "Téléchargement:  data_gz\\742022other.csv.gz\n",
      "Décompression data_csv\\742022other.csv\n",
      "Lecture:  data_csv\\742022other.csv\n",
      "Téléchargement:  data_gz\\742024other.csv.gz\n",
      "Décompression data_csv\\742024other.csv\n",
      "Lecture:  data_csv\\742024other.csv\n"
     ]
    }
   ],
   "source": [
    "# Run the download_data.py script\n",
    "!python download_data.py"
   ]
  },
  {
   "cell_type": "code",
   "execution_count": 28,
   "metadata": {},
   "outputs": [],
   "source": [
    "#Importing the data\n",
    "departement= \"74\"\n",
    "template_end = \".csv\"\n",
    "\n",
    "data_rtt= pd.read_csv(f\"../data_csv/{departement}RR_T_V{template_end}\", sep=\";\", decimal=\".\")\n",
    "data_neige = pd.read_csv(f\"../data_csv/{departement}neige{template_end}\", sep=\";\", decimal=\".\")\n"
   ]
  },
  {
   "cell_type": "code",
   "execution_count": 29,
   "metadata": {},
   "outputs": [
    {
     "data": {
      "text/html": [
       "<div>\n",
       "<style scoped>\n",
       "    .dataframe tbody tr th:only-of-type {\n",
       "        vertical-align: middle;\n",
       "    }\n",
       "\n",
       "    .dataframe tbody tr th {\n",
       "        vertical-align: top;\n",
       "    }\n",
       "\n",
       "    .dataframe thead th {\n",
       "        text-align: right;\n",
       "    }\n",
       "</style>\n",
       "<table border=\"1\" class=\"dataframe\">\n",
       "  <thead>\n",
       "    <tr style=\"text-align: right;\">\n",
       "      <th></th>\n",
       "      <th>NUM_POSTE</th>\n",
       "      <th>NOM_USUEL</th>\n",
       "      <th>LAT</th>\n",
       "      <th>LON</th>\n",
       "      <th>ALTI</th>\n",
       "      <th>AAAAMMJJ</th>\n",
       "      <th>DHUMEC</th>\n",
       "      <th>QDHUMEC</th>\n",
       "      <th>PMERM</th>\n",
       "      <th>QPMERM</th>\n",
       "      <th>...</th>\n",
       "      <th>ECLAIR</th>\n",
       "      <th>QECLAIR</th>\n",
       "      <th>NB300</th>\n",
       "      <th>QNB300</th>\n",
       "      <th>BA300</th>\n",
       "      <th>QBA300</th>\n",
       "      <th>TMERMIN</th>\n",
       "      <th>QTMERMIN</th>\n",
       "      <th>TMERMAX</th>\n",
       "      <th>QTMERMAX</th>\n",
       "    </tr>\n",
       "  </thead>\n",
       "  <tbody>\n",
       "    <tr>\n",
       "      <th>0</th>\n",
       "      <td>74001001</td>\n",
       "      <td>ABONDANCE</td>\n",
       "      <td>46.2845</td>\n",
       "      <td>6.734167</td>\n",
       "      <td>947</td>\n",
       "      <td>1950-01-02</td>\n",
       "      <td>NaN</td>\n",
       "      <td>NaN</td>\n",
       "      <td>NaN</td>\n",
       "      <td>NaN</td>\n",
       "      <td>...</td>\n",
       "      <td>NaN</td>\n",
       "      <td>NaN</td>\n",
       "      <td>NaN</td>\n",
       "      <td>NaN</td>\n",
       "      <td>NaN</td>\n",
       "      <td>NaN</td>\n",
       "      <td>NaN</td>\n",
       "      <td>NaN</td>\n",
       "      <td>NaN</td>\n",
       "      <td>NaN</td>\n",
       "    </tr>\n",
       "    <tr>\n",
       "      <th>1</th>\n",
       "      <td>74001001</td>\n",
       "      <td>ABONDANCE</td>\n",
       "      <td>46.2845</td>\n",
       "      <td>6.734167</td>\n",
       "      <td>947</td>\n",
       "      <td>1950-01-03</td>\n",
       "      <td>NaN</td>\n",
       "      <td>NaN</td>\n",
       "      <td>NaN</td>\n",
       "      <td>NaN</td>\n",
       "      <td>...</td>\n",
       "      <td>NaN</td>\n",
       "      <td>NaN</td>\n",
       "      <td>NaN</td>\n",
       "      <td>NaN</td>\n",
       "      <td>NaN</td>\n",
       "      <td>NaN</td>\n",
       "      <td>NaN</td>\n",
       "      <td>NaN</td>\n",
       "      <td>NaN</td>\n",
       "      <td>NaN</td>\n",
       "    </tr>\n",
       "    <tr>\n",
       "      <th>2</th>\n",
       "      <td>74001001</td>\n",
       "      <td>ABONDANCE</td>\n",
       "      <td>46.2845</td>\n",
       "      <td>6.734167</td>\n",
       "      <td>947</td>\n",
       "      <td>1950-01-16</td>\n",
       "      <td>NaN</td>\n",
       "      <td>NaN</td>\n",
       "      <td>NaN</td>\n",
       "      <td>NaN</td>\n",
       "      <td>...</td>\n",
       "      <td>NaN</td>\n",
       "      <td>NaN</td>\n",
       "      <td>NaN</td>\n",
       "      <td>NaN</td>\n",
       "      <td>NaN</td>\n",
       "      <td>NaN</td>\n",
       "      <td>NaN</td>\n",
       "      <td>NaN</td>\n",
       "      <td>NaN</td>\n",
       "      <td>NaN</td>\n",
       "    </tr>\n",
       "    <tr>\n",
       "      <th>3</th>\n",
       "      <td>74001001</td>\n",
       "      <td>ABONDANCE</td>\n",
       "      <td>46.2845</td>\n",
       "      <td>6.734167</td>\n",
       "      <td>947</td>\n",
       "      <td>1950-01-17</td>\n",
       "      <td>NaN</td>\n",
       "      <td>NaN</td>\n",
       "      <td>NaN</td>\n",
       "      <td>NaN</td>\n",
       "      <td>...</td>\n",
       "      <td>NaN</td>\n",
       "      <td>NaN</td>\n",
       "      <td>NaN</td>\n",
       "      <td>NaN</td>\n",
       "      <td>NaN</td>\n",
       "      <td>NaN</td>\n",
       "      <td>NaN</td>\n",
       "      <td>NaN</td>\n",
       "      <td>NaN</td>\n",
       "      <td>NaN</td>\n",
       "    </tr>\n",
       "    <tr>\n",
       "      <th>4</th>\n",
       "      <td>74001001</td>\n",
       "      <td>ABONDANCE</td>\n",
       "      <td>46.2845</td>\n",
       "      <td>6.734167</td>\n",
       "      <td>947</td>\n",
       "      <td>1950-01-22</td>\n",
       "      <td>NaN</td>\n",
       "      <td>NaN</td>\n",
       "      <td>NaN</td>\n",
       "      <td>NaN</td>\n",
       "      <td>...</td>\n",
       "      <td>NaN</td>\n",
       "      <td>NaN</td>\n",
       "      <td>NaN</td>\n",
       "      <td>NaN</td>\n",
       "      <td>NaN</td>\n",
       "      <td>NaN</td>\n",
       "      <td>NaN</td>\n",
       "      <td>NaN</td>\n",
       "      <td>NaN</td>\n",
       "      <td>NaN</td>\n",
       "    </tr>\n",
       "  </tbody>\n",
       "</table>\n",
       "<p>5 rows × 88 columns</p>\n",
       "</div>"
      ],
      "text/plain": [
       "   NUM_POSTE  NOM_USUEL      LAT       LON  ALTI    AAAAMMJJ  DHUMEC  QDHUMEC  \\\n",
       "0   74001001  ABONDANCE  46.2845  6.734167   947  1950-01-02     NaN      NaN   \n",
       "1   74001001  ABONDANCE  46.2845  6.734167   947  1950-01-03     NaN      NaN   \n",
       "2   74001001  ABONDANCE  46.2845  6.734167   947  1950-01-16     NaN      NaN   \n",
       "3   74001001  ABONDANCE  46.2845  6.734167   947  1950-01-17     NaN      NaN   \n",
       "4   74001001  ABONDANCE  46.2845  6.734167   947  1950-01-22     NaN      NaN   \n",
       "\n",
       "   PMERM  QPMERM  ...  ECLAIR  QECLAIR  NB300  QNB300  BA300  QBA300  TMERMIN  \\\n",
       "0    NaN     NaN  ...     NaN      NaN    NaN     NaN    NaN     NaN      NaN   \n",
       "1    NaN     NaN  ...     NaN      NaN    NaN     NaN    NaN     NaN      NaN   \n",
       "2    NaN     NaN  ...     NaN      NaN    NaN     NaN    NaN     NaN      NaN   \n",
       "3    NaN     NaN  ...     NaN      NaN    NaN     NaN    NaN     NaN      NaN   \n",
       "4    NaN     NaN  ...     NaN      NaN    NaN     NaN    NaN     NaN      NaN   \n",
       "\n",
       "   QTMERMIN  TMERMAX  QTMERMAX  \n",
       "0       NaN      NaN       NaN  \n",
       "1       NaN      NaN       NaN  \n",
       "2       NaN      NaN       NaN  \n",
       "3       NaN      NaN       NaN  \n",
       "4       NaN      NaN       NaN  \n",
       "\n",
       "[5 rows x 88 columns]"
      ]
     },
     "execution_count": 29,
     "metadata": {},
     "output_type": "execute_result"
    }
   ],
   "source": [
    "data_neige.head()"
   ]
  },
  {
   "cell_type": "code",
   "execution_count": 30,
   "metadata": {},
   "outputs": [],
   "source": [
    "data_neige.drop(columns=[\"LAT\", \"LON\", \"ALTI\", \"NOM_USUEL\"], inplace=True)"
   ]
  },
  {
   "cell_type": "code",
   "execution_count": 31,
   "metadata": {},
   "outputs": [],
   "source": [
    "#inner joining the data\n",
    "data = pd.merge(data_rtt, data_neige, on=[\"NUM_POSTE\",\"AAAAMMJJ\"])"
   ]
  },
  {
   "cell_type": "code",
   "execution_count": 32,
   "metadata": {},
   "outputs": [
    {
     "data": {
      "text/html": [
       "<div>\n",
       "<style scoped>\n",
       "    .dataframe tbody tr th:only-of-type {\n",
       "        vertical-align: middle;\n",
       "    }\n",
       "\n",
       "    .dataframe tbody tr th {\n",
       "        vertical-align: top;\n",
       "    }\n",
       "\n",
       "    .dataframe thead th {\n",
       "        text-align: right;\n",
       "    }\n",
       "</style>\n",
       "<table border=\"1\" class=\"dataframe\">\n",
       "  <thead>\n",
       "    <tr style=\"text-align: right;\">\n",
       "      <th></th>\n",
       "      <th>NUM_POSTE</th>\n",
       "      <th>NOM_USUEL</th>\n",
       "      <th>LAT</th>\n",
       "      <th>LON</th>\n",
       "      <th>ALTI</th>\n",
       "      <th>AAAAMMJJ</th>\n",
       "      <th>RR</th>\n",
       "      <th>QRR</th>\n",
       "      <th>TN</th>\n",
       "      <th>QTN</th>\n",
       "      <th>...</th>\n",
       "      <th>ECLAIR</th>\n",
       "      <th>QECLAIR</th>\n",
       "      <th>NB300</th>\n",
       "      <th>QNB300</th>\n",
       "      <th>BA300</th>\n",
       "      <th>QBA300</th>\n",
       "      <th>TMERMIN</th>\n",
       "      <th>QTMERMIN</th>\n",
       "      <th>TMERMAX</th>\n",
       "      <th>QTMERMAX</th>\n",
       "    </tr>\n",
       "  </thead>\n",
       "  <tbody>\n",
       "    <tr>\n",
       "      <th>0</th>\n",
       "      <td>74001001</td>\n",
       "      <td>ABONDANCE</td>\n",
       "      <td>46.2845</td>\n",
       "      <td>6.734167</td>\n",
       "      <td>947</td>\n",
       "      <td>1950-01-02</td>\n",
       "      <td>10.0</td>\n",
       "      <td>9.0</td>\n",
       "      <td>NaN</td>\n",
       "      <td>NaN</td>\n",
       "      <td>...</td>\n",
       "      <td>NaN</td>\n",
       "      <td>NaN</td>\n",
       "      <td>NaN</td>\n",
       "      <td>NaN</td>\n",
       "      <td>NaN</td>\n",
       "      <td>NaN</td>\n",
       "      <td>NaN</td>\n",
       "      <td>NaN</td>\n",
       "      <td>NaN</td>\n",
       "      <td>NaN</td>\n",
       "    </tr>\n",
       "    <tr>\n",
       "      <th>1</th>\n",
       "      <td>74001001</td>\n",
       "      <td>ABONDANCE</td>\n",
       "      <td>46.2845</td>\n",
       "      <td>6.734167</td>\n",
       "      <td>947</td>\n",
       "      <td>1950-01-03</td>\n",
       "      <td>48.0</td>\n",
       "      <td>9.0</td>\n",
       "      <td>NaN</td>\n",
       "      <td>NaN</td>\n",
       "      <td>...</td>\n",
       "      <td>NaN</td>\n",
       "      <td>NaN</td>\n",
       "      <td>NaN</td>\n",
       "      <td>NaN</td>\n",
       "      <td>NaN</td>\n",
       "      <td>NaN</td>\n",
       "      <td>NaN</td>\n",
       "      <td>NaN</td>\n",
       "      <td>NaN</td>\n",
       "      <td>NaN</td>\n",
       "    </tr>\n",
       "    <tr>\n",
       "      <th>2</th>\n",
       "      <td>74001001</td>\n",
       "      <td>ABONDANCE</td>\n",
       "      <td>46.2845</td>\n",
       "      <td>6.734167</td>\n",
       "      <td>947</td>\n",
       "      <td>1950-01-16</td>\n",
       "      <td>23.6</td>\n",
       "      <td>9.0</td>\n",
       "      <td>NaN</td>\n",
       "      <td>NaN</td>\n",
       "      <td>...</td>\n",
       "      <td>NaN</td>\n",
       "      <td>NaN</td>\n",
       "      <td>NaN</td>\n",
       "      <td>NaN</td>\n",
       "      <td>NaN</td>\n",
       "      <td>NaN</td>\n",
       "      <td>NaN</td>\n",
       "      <td>NaN</td>\n",
       "      <td>NaN</td>\n",
       "      <td>NaN</td>\n",
       "    </tr>\n",
       "    <tr>\n",
       "      <th>3</th>\n",
       "      <td>74001001</td>\n",
       "      <td>ABONDANCE</td>\n",
       "      <td>46.2845</td>\n",
       "      <td>6.734167</td>\n",
       "      <td>947</td>\n",
       "      <td>1950-01-17</td>\n",
       "      <td>1.2</td>\n",
       "      <td>9.0</td>\n",
       "      <td>NaN</td>\n",
       "      <td>NaN</td>\n",
       "      <td>...</td>\n",
       "      <td>NaN</td>\n",
       "      <td>NaN</td>\n",
       "      <td>NaN</td>\n",
       "      <td>NaN</td>\n",
       "      <td>NaN</td>\n",
       "      <td>NaN</td>\n",
       "      <td>NaN</td>\n",
       "      <td>NaN</td>\n",
       "      <td>NaN</td>\n",
       "      <td>NaN</td>\n",
       "    </tr>\n",
       "    <tr>\n",
       "      <th>4</th>\n",
       "      <td>74001001</td>\n",
       "      <td>ABONDANCE</td>\n",
       "      <td>46.2845</td>\n",
       "      <td>6.734167</td>\n",
       "      <td>947</td>\n",
       "      <td>1950-01-22</td>\n",
       "      <td>0.0</td>\n",
       "      <td>9.0</td>\n",
       "      <td>NaN</td>\n",
       "      <td>NaN</td>\n",
       "      <td>...</td>\n",
       "      <td>NaN</td>\n",
       "      <td>NaN</td>\n",
       "      <td>NaN</td>\n",
       "      <td>NaN</td>\n",
       "      <td>NaN</td>\n",
       "      <td>NaN</td>\n",
       "      <td>NaN</td>\n",
       "      <td>NaN</td>\n",
       "      <td>NaN</td>\n",
       "      <td>NaN</td>\n",
       "    </tr>\n",
       "  </tbody>\n",
       "</table>\n",
       "<p>5 rows × 138 columns</p>\n",
       "</div>"
      ],
      "text/plain": [
       "   NUM_POSTE  NOM_USUEL      LAT       LON  ALTI    AAAAMMJJ    RR  QRR  TN  \\\n",
       "0   74001001  ABONDANCE  46.2845  6.734167   947  1950-01-02  10.0  9.0 NaN   \n",
       "1   74001001  ABONDANCE  46.2845  6.734167   947  1950-01-03  48.0  9.0 NaN   \n",
       "2   74001001  ABONDANCE  46.2845  6.734167   947  1950-01-16  23.6  9.0 NaN   \n",
       "3   74001001  ABONDANCE  46.2845  6.734167   947  1950-01-17   1.2  9.0 NaN   \n",
       "4   74001001  ABONDANCE  46.2845  6.734167   947  1950-01-22   0.0  9.0 NaN   \n",
       "\n",
       "   QTN  ...  ECLAIR  QECLAIR  NB300  QNB300  BA300  QBA300  TMERMIN  QTMERMIN  \\\n",
       "0  NaN  ...     NaN      NaN    NaN     NaN    NaN     NaN      NaN       NaN   \n",
       "1  NaN  ...     NaN      NaN    NaN     NaN    NaN     NaN      NaN       NaN   \n",
       "2  NaN  ...     NaN      NaN    NaN     NaN    NaN     NaN      NaN       NaN   \n",
       "3  NaN  ...     NaN      NaN    NaN     NaN    NaN     NaN      NaN       NaN   \n",
       "4  NaN  ...     NaN      NaN    NaN     NaN    NaN     NaN      NaN       NaN   \n",
       "\n",
       "   TMERMAX  QTMERMAX  \n",
       "0      NaN       NaN  \n",
       "1      NaN       NaN  \n",
       "2      NaN       NaN  \n",
       "3      NaN       NaN  \n",
       "4      NaN       NaN  \n",
       "\n",
       "[5 rows x 138 columns]"
      ]
     },
     "execution_count": 32,
     "metadata": {},
     "output_type": "execute_result"
    }
   ],
   "source": [
    "data.head()"
   ]
  },
  {
   "cell_type": "code",
   "execution_count": 33,
   "metadata": {},
   "outputs": [
    {
     "name": "stdout",
     "output_type": "stream",
     "text": [
      "<class 'pandas.core.frame.DataFrame'>\n",
      "Int64Index: 805992 entries, 0 to 805991\n",
      "Data columns (total 138 columns):\n",
      " #    Column        Dtype  \n",
      "---   ------        -----  \n",
      " 0    NUM_POSTE     int64  \n",
      " 1    NOM_USUEL     object \n",
      " 2    LAT           float64\n",
      " 3    LON           float64\n",
      " 4    ALTI          int64  \n",
      " 5    AAAAMMJJ      object \n",
      " 6    RR            float64\n",
      " 7    QRR           float64\n",
      " 8    TN            float64\n",
      " 9    QTN           float64\n",
      " 10   HTN           float64\n",
      " 11   QHTN          float64\n",
      " 12   TX            float64\n",
      " 13   QTX           float64\n",
      " 14   HTX           float64\n",
      " 15   QHTX          float64\n",
      " 16   TM            float64\n",
      " 17   QTM           float64\n",
      " 18   TNTXM         float64\n",
      " 19   QTNTXM        float64\n",
      " 20   TAMPLI        float64\n",
      " 21   QTAMPLI       float64\n",
      " 22   TNSOL         float64\n",
      " 23   QTNSOL        float64\n",
      " 24   TN50          float64\n",
      " 25   QTN50         float64\n",
      " 26   DG            float64\n",
      " 27   QDG           float64\n",
      " 28   FFM           float64\n",
      " 29   QFFM          float64\n",
      " 30   FF2M          float64\n",
      " 31   QFF2M         float64\n",
      " 32   FXY           float64\n",
      " 33   QFXY          float64\n",
      " 34   DXY           float64\n",
      " 35   QDXY          float64\n",
      " 36   HXY           float64\n",
      " 37   QHXY          float64\n",
      " 38   FXI           float64\n",
      " 39   QFXI          float64\n",
      " 40   DXI           float64\n",
      " 41   QDXI          float64\n",
      " 42   HXI           float64\n",
      " 43   QHXI          float64\n",
      " 44   FXI2          float64\n",
      " 45   QFXI2         float64\n",
      " 46   DXI2          float64\n",
      " 47   QDXI2         float64\n",
      " 48   HXI2          float64\n",
      " 49   QHXI2         float64\n",
      " 50   FXI3S         float64\n",
      " 51   QFXI3S        float64\n",
      " 52   DXI3S         float64\n",
      " 53   QDXI3S        float64\n",
      " 54   HXI3S         float64\n",
      " 55   QHXI3S        float64\n",
      " 56   DHUMEC        float64\n",
      " 57   QDHUMEC       float64\n",
      " 58   PMERM         float64\n",
      " 59   QPMERM        float64\n",
      " 60   PMERMIN       float64\n",
      " 61   QPMERMIN      float64\n",
      " 62   INST          float64\n",
      " 63   QINST         float64\n",
      " 64   GLOT          float64\n",
      " 65   QGLOT         float64\n",
      " 66   DIFT          float64\n",
      " 67   QDIFT         float64\n",
      " 68   DIRT          float64\n",
      " 69   QDIRT         float64\n",
      " 70   INFRART       float64\n",
      " 71   QINFRART      float64\n",
      " 72    UV           float64\n",
      " 73   QUV           float64\n",
      " 74   UV_INDICEX    float64\n",
      " 75   QUV_INDICEX   float64\n",
      " 76   SIGMA         float64\n",
      " 77   QSIGMA        float64\n",
      " 78   UN            float64\n",
      " 79   QUN           float64\n",
      " 80   HUN           float64\n",
      " 81   QHUN          float64\n",
      " 82   UX            float64\n",
      " 83   QUX           float64\n",
      " 84   HUX           float64\n",
      " 85   QHUX          float64\n",
      " 86   UM            float64\n",
      " 87   QUM           float64\n",
      " 88   DHUMI40       float64\n",
      " 89   QDHUMI40      float64\n",
      " 90   DHUMI80       float64\n",
      " 91   QDHUMI80      float64\n",
      " 92   TSVM          float64\n",
      " 93   QTSVM         float64\n",
      " 94   ETPMON        float64\n",
      " 95   QETPMON       float64\n",
      " 96   ETPGRILLE     float64\n",
      " 97   QETPGRILLE    float64\n",
      " 98    ECOULEMENTM  float64\n",
      " 99   QECOULEMENTM  float64\n",
      " 100  HNEIGEF       float64\n",
      " 101  QHNEIGEF      float64\n",
      " 102  NEIGETOTX     float64\n",
      " 103  QNEIGETOTX    float64\n",
      " 104  NEIGETOT06    float64\n",
      " 105  QNEIGETOT06   float64\n",
      " 106  NEIG          float64\n",
      " 107  QNEIG         float64\n",
      " 108  BROU          float64\n",
      " 109  QBROU         float64\n",
      " 110  ORAG          float64\n",
      " 111  QORAG         float64\n",
      " 112  GRESIL        float64\n",
      " 113  QGRESIL       float64\n",
      " 114  GRELE         float64\n",
      " 115  QGRELE        float64\n",
      " 116  ROSEE         float64\n",
      " 117  QROSEE        float64\n",
      " 118   VERGLAS      float64\n",
      " 119  QVERGLAS      float64\n",
      " 120  SOLNEIGE      float64\n",
      " 121  QSOLNEIGE     float64\n",
      " 122  GELEE         float64\n",
      " 123  QGELEE        float64\n",
      " 124  FUMEE         float64\n",
      " 125  QFUMEE        float64\n",
      " 126  BRUME         float64\n",
      " 127  QBRUME        float64\n",
      " 128  ECLAIR        float64\n",
      " 129  QECLAIR       float64\n",
      " 130  NB300         float64\n",
      " 131  QNB300        float64\n",
      " 132  BA300         float64\n",
      " 133  QBA300        float64\n",
      " 134  TMERMIN       float64\n",
      " 135  QTMERMIN      float64\n",
      " 136  TMERMAX       float64\n",
      " 137  QTMERMAX      float64\n",
      "dtypes: float64(134), int64(2), object(2)\n",
      "memory usage: 854.7+ MB\n"
     ]
    }
   ],
   "source": [
    "data.info(verbose=True)"
   ]
  },
  {
   "cell_type": "code",
   "execution_count": 34,
   "metadata": {},
   "outputs": [],
   "source": [
    "#columns of data\n",
    "num_cols = data.select_dtypes(include=np.number).columns\n",
    "cat_cols = data.select_dtypes(include='object').columns\n",
    "#throw away categorical columns\n",
    "data = data.drop(columns=cat_cols)\n",
    "data = data.drop(columns=['NUM_POSTE'])"
   ]
  },
  {
   "cell_type": "code",
   "execution_count": 52,
   "metadata": {},
   "outputs": [
    {
     "name": "stdout",
     "output_type": "stream",
     "text": [
      "['HNEIGEF', 'QHNEIGEF', 'NEIGETOTX', 'QNEIGETOTX', 'NEIGETOT06', 'QNEIGETOT06', 'NEIG', 'QNEIG', 'SOLNEIGE', 'QSOLNEIGE']\n"
     ]
    }
   ],
   "source": [
    "# print columns with NEIG in name\n",
    "neige_cols = [col for col in data.columns if 'NEIG' in col]\n",
    "print(neige_cols)"
   ]
  },
  {
   "cell_type": "code",
   "execution_count": 41,
   "metadata": {},
   "outputs": [],
   "source": [
    "y_target = 'NEIG'\n",
    "y_covariate = [\"NEIGETOTX\", \"NEIGETOT06\"]"
   ]
  },
  {
   "cell_type": "code",
   "execution_count": 42,
   "metadata": {},
   "outputs": [
    {
     "name": "stdout",
     "output_type": "stream",
     "text": [
      "NEIG: 80.66%\n",
      "NEIGETOTX: 28.43%\n",
      "NEIGETOT06: 28.60%\n"
     ]
    }
   ],
   "source": [
    "for col in [y_target] +y_covariate:\n",
    "    # print percentage of na values\n",
    "    print(f\"{col}: {data[col].isna().sum()/len(data)*100:.2f}%\")"
   ]
  },
  {
   "cell_type": "code",
   "execution_count": 39,
   "metadata": {},
   "outputs": [
    {
     "data": {
      "text/plain": [
       "(array([4.70458e+05, 3.24670e+04, 2.12120e+04, 1.55680e+04, 1.12030e+04,\n",
       "        7.71000e+03, 5.88800e+03, 3.99700e+03, 2.87400e+03, 1.76400e+03,\n",
       "        1.25900e+03, 7.63000e+02, 5.72000e+02, 4.01000e+02, 2.72000e+02,\n",
       "        2.14000e+02, 9.70000e+01, 7.50000e+01, 5.10000e+01, 2.00000e+01]),\n",
       " array([  0. ,  19.9,  39.8,  59.7,  79.6,  99.5, 119.4, 139.3, 159.2,\n",
       "        179.1, 199. , 218.9, 238.8, 258.7, 278.6, 298.5, 318.4, 338.3,\n",
       "        358.2, 378.1, 398. ]),\n",
       " <BarContainer object of 20 artists>)"
      ]
     },
     "execution_count": 39,
     "metadata": {},
     "output_type": "execute_result"
    },
    {
     "data": {
      "image/png": "[encoded data removed]",
      "text/plain": [
       "<Figure size 640x480 with 1 Axes>"
      ]
     },
     "metadata": {},
     "output_type": "display_data"
    }
   ],
   "source": [
    "# histogram of the target variable neigetotx\n",
    "plt.hist(data['NEIGETOTX'], bins=20)"
   ]
  },
  {
   "cell_type": "code",
   "execution_count": 44,
   "metadata": {},
   "outputs": [],
   "source": [
    "# NEIG = 0 if NEIGETOTX = 0 and 1 else\n",
    "data['NEIG'] = data['NEIG'].mask(data['NEIGETOTX'] == 0, 0)\n",
    "data['NEIG'] = data['NEIG'].mask(data['NEIGETOTX'] > 0, 1)"
   ]
  },
  {
   "cell_type": "code",
   "execution_count": 45,
   "metadata": {},
   "outputs": [
    {
     "name": "stdout",
     "output_type": "stream",
     "text": [
      "NEIG: 23.34%\n"
     ]
    }
   ],
   "source": [
    "col = 'NEIG'\n",
    "print(f\"{col}: {data[col].isna().sum()/len(data)*100:.2f}%\")"
   ]
  },
  {
   "cell_type": "code",
   "execution_count": 46,
   "metadata": {},
   "outputs": [],
   "source": [
    "data.dropna(subset=[y_target], inplace=True)"
   ]
  },
  {
   "cell_type": "code",
   "execution_count": 47,
   "metadata": {},
   "outputs": [
    {
     "data": {
      "text/plain": [
       "<AxesSubplot:>"
      ]
     },
     "execution_count": 47,
     "metadata": {},
     "output_type": "execute_result"
    },
    {
     "data": {
      "image/png": "[encoded data removed]",
      "text/plain": [
       "<Figure size 2500x1000 with 2 Axes>"
      ]
     },
     "metadata": {},
     "output_type": "display_data"
    }
   ],
   "source": [
    "msno.matrix(data)"
   ]
  },
  {
   "cell_type": "code",
   "execution_count": 32,
   "metadata": {},
   "outputs": [
    {
     "name": "stdout",
     "output_type": "stream",
     "text": [
      "Index(['LAT', 'LON', 'ALTI', 'RR', 'QRR', 'TN', 'QTN', 'TX', 'QTX', 'TNTXM',\n",
      "       'QTNTXM', 'TAMPLI', 'QTAMPLI', 'HNEIGEF', 'QHNEIGEF', 'NEIGETOTX',\n",
      "       'QNEIGETOTX', 'NEIGETOT06', 'QNEIGETOT06'],\n",
      "      dtype='object')\n"
     ]
    },
    {
     "data": {
      "image/png": "[encoded data removed]",
      "text/plain": [
       "<Figure size 2500x1000 with 2 Axes>"
      ]
     },
     "metadata": {},
     "output_type": "display_data"
    }
   ],
   "source": [
    "#data empty values\n",
    "#if 50% of the data is missing, we drop the column\n",
    "data = data.dropna(thresh=0.5*len(data), axis=1)\n",
    "#fill the rest with the mean\n",
    "data = data.fillna(data.median())\n",
    "print(data.columns)\n",
    "#data empty values\n",
    "msno.matrix(data)\n",
    "plt.show()"
   ]
  },
  {
   "cell_type": "markdown",
   "metadata": {},
   "source": [
    "# Distribution des données"
   ]
  },
  {
   "cell_type": "code",
   "execution_count": 34,
   "metadata": {},
   "outputs": [
    {
     "data": {
      "image/png": "[encoded data removed]",
      "text/plain": [
       "<Figure size 640x480 with 1 Axes>"
      ]
     },
     "metadata": {},
     "output_type": "display_data"
    }
   ],
   "source": [
    "#Distribution du taux de neige\n",
    "sns.histplot(data['HNEIGEF'])\n",
    "plt.show()"
   ]
  },
  {
   "cell_type": "markdown",
   "metadata": {},
   "source": [
    "# Training Data"
   ]
  },
  {
   "cell_type": "code",
   "execution_count": null,
   "metadata": {},
   "outputs": [],
   "source": []
  }
 ],
 "metadata": {
  "kernelspec": {
   "display_name": "Python 3",
   "language": "python",
   "name": "python3"
  },
  "language_info": {
   "codemirror_mode": {
    "name": "ipython",
    "version": 3
   },
   "file_extension": ".py",
   "mimetype": "text/x-python",
   "name": "python",
   "nbconvert_exporter": "python",
   "pygments_lexer": "ipython3",
   "version": "3.7.12"
  }
 },
 "nbformat": 4,
 "nbformat_minor": 2
}
